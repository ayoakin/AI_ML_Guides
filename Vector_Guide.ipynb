{
  "nbformat": 4,
  "nbformat_minor": 0,
  "metadata": {
    "colab": {
      "provenance": []
    },
    "kernelspec": {
      "name": "python3",
      "display_name": "Python 3"
    },
    "language_info": {
      "name": "python"
    }
  },
  "cells": [
    {
      "cell_type": "code",
      "execution_count": 12,
      "metadata": {
        "id": "bcbFo0A4qQDL"
      },
      "outputs": [],
      "source": [
        "import numpy as np"
      ]
    },
    {
      "cell_type": "markdown",
      "source": [
        "# Vector Creation"
      ],
      "metadata": {
        "id": "ByEBjCXh2D93"
      }
    },
    {
      "cell_type": "code",
      "source": [
        "horizontal_list = [1, 2, 3]\n",
        "\n",
        "vertical_list = [[10],[20],[30]]\n",
        "\n",
        "Array = np.array([1,2,3]) # 1D array\n",
        "\n",
        "row_vector = np.array([ [1,2,3] ]) # row\n",
        "column_vector = np.array([ [1],[2],[3] ]) #column\n",
        "\n",
        "row_vector_from_list = np.array(horizontal_list)\n",
        "column_vector_from_list = np.array(vertical_list)\n",
        "\n",
        "print (f'horizontal list: {horizontal_list}')\n",
        "print (f'vertical list: {vertical_list}')\n",
        "print (f'array: {Array}')\n",
        "print (f'row vector: {row_vector}')\n",
        "print (f'column vector: {column_vector}')\n",
        "print (f'row vector from list: {row_vector_from_list}')\n",
        "print (f'column vector from list:{column_vector_from_list}')"
      ],
      "metadata": {
        "colab": {
          "base_uri": "https://localhost:8080/"
        },
        "id": "mBZp2Tz98H-Z",
        "outputId": "cea66ae5-a873-4126-e76d-33ba2f195fb9"
      },
      "execution_count": 13,
      "outputs": [
        {
          "output_type": "stream",
          "name": "stdout",
          "text": [
            "horizontal list: [1, 2, 3]\n",
            "vertical list: [[10], [20], [30]]\n",
            "array: [1 2 3]\n",
            "row vector: [[1 2 3]]\n",
            "column vector: [[1]\n",
            " [2]\n",
            " [3]]\n",
            "row vector from list: [1 2 3]\n",
            "column vector from list:[[10]\n",
            " [20]\n",
            " [30]]\n"
          ]
        }
      ]
    },
    {
      "cell_type": "markdown",
      "source": [
        "# Magnitude/Norm of a vector"
      ],
      "metadata": {
        "id": "i3hgJq262Lx6"
      }
    },
    {
      "cell_type": "code",
      "source": [
        "# L-0 Norm\n",
        "\n",
        "v = np.array([1, 0, 3, 0, 5]) #sample vector\n",
        "\n",
        "l0_norm = np.linalg.norm(v, ord=0)\n",
        "\n",
        "print(\"L0-norm of vector v:\", l0_norm)"
      ],
      "metadata": {
        "colab": {
          "base_uri": "https://localhost:8080/"
        },
        "id": "e3j6hFTU2CiG",
        "outputId": "789efdc9-798a-4842-e432-b98dcc47d305"
      },
      "execution_count": 14,
      "outputs": [
        {
          "output_type": "stream",
          "name": "stdout",
          "text": [
            "L0-norm of vector v: 3.0\n"
          ]
        }
      ]
    },
    {
      "cell_type": "code",
      "source": [
        "# L-1 Norm\n",
        "\n",
        "v = np.array([1, -2, 3, -4, 5]) #sample vector\n",
        "\n",
        "l1_norm = np.linalg.norm(v, ord=1)\n",
        "\n",
        "print(\"L1-norm of vector v:\", l1_norm)"
      ],
      "metadata": {
        "colab": {
          "base_uri": "https://localhost:8080/"
        },
        "id": "eXpZUQO43NIO",
        "outputId": "d8d58ed8-753b-47fc-8a8e-79465aeb9437"
      },
      "execution_count": 15,
      "outputs": [
        {
          "output_type": "stream",
          "name": "stdout",
          "text": [
            "L1-norm of vector v: 15.0\n"
          ]
        }
      ]
    },
    {
      "cell_type": "code",
      "source": [
        "# L-2 Norm\n",
        "\n",
        "v = np.array([1, 2, 3, 4, 5]) #sample vector\n",
        "\n",
        "l2_norm = np.linalg.norm(v, ord=2)\n",
        "\n",
        "print(\"L2-norm of vector v:\", l2_norm)"
      ],
      "metadata": {
        "colab": {
          "base_uri": "https://localhost:8080/"
        },
        "id": "hfXAkcrm33xf",
        "outputId": "02455760-22e4-4a4e-b0eb-12056fbb048d"
      },
      "execution_count": 16,
      "outputs": [
        {
          "output_type": "stream",
          "name": "stdout",
          "text": [
            "L2-norm of vector v: 7.416198487095663\n"
          ]
        }
      ]
    },
    {
      "cell_type": "code",
      "source": [
        "# L-2 Norm\n",
        "\n",
        "v = np.array([1, 2, 3, 4, 5]) #sample vector\n",
        "\n",
        "l2_norm = np.linalg.norm(v)\n",
        "\n",
        "print(\"L2-norm of vector v:\", l2_norm)"
      ],
      "metadata": {
        "colab": {
          "base_uri": "https://localhost:8080/"
        },
        "id": "iZeji2Bz4Uiu",
        "outputId": "cfad27bd-98ec-4950-bfe9-ffe4ebb3ecb2"
      },
      "execution_count": 17,
      "outputs": [
        {
          "output_type": "stream",
          "name": "stdout",
          "text": [
            "L2-norm of vector v: 7.416198487095663\n"
          ]
        }
      ]
    },
    {
      "cell_type": "code",
      "source": [
        "# L-infinity Norm\n",
        "\n",
        "v = np.array([-8 ,6 , 2, 3, 7]) #sample vector\n",
        "\n",
        "linfinity_norm = np.linalg.norm(v, ord=np.inf)\n",
        "\n",
        "print(\"L-infinity norm of vector v:\", linfinity_norm)"
      ],
      "metadata": {
        "colab": {
          "base_uri": "https://localhost:8080/"
        },
        "id": "6T6gI6g64kMO",
        "outputId": "f0bf6592-fe98-4e27-e59c-94ca85e4621d"
      },
      "execution_count": 18,
      "outputs": [
        {
          "output_type": "stream",
          "name": "stdout",
          "text": [
            "L-infinity norm of vector v: 8.0\n"
          ]
        }
      ]
    },
    {
      "cell_type": "markdown",
      "source": [
        "# Angle"
      ],
      "metadata": {
        "id": "ZVFetQBW2QXY"
      }
    },
    {
      "cell_type": "code",
      "source": [
        "#Direction Angle of a Vector\n",
        "\n",
        "\n",
        "v = np.array([3, 4])\n",
        "\n",
        "angle_rad = np.arctan2(v[1], v[0])  # arctan2(y, x) gives the angle in radians\n",
        "\n",
        "# Convert the angle to degrees\n",
        "angle_deg = np.degrees(angle_rad)\n",
        "\n",
        "print(\"Angle of vector v in degrees:\", angle_deg)"
      ],
      "metadata": {
        "colab": {
          "base_uri": "https://localhost:8080/"
        },
        "id": "4k4bSZMp4-hG",
        "outputId": "fb64f261-d4d3-40e8-aa92-dc7a603ba7c0"
      },
      "execution_count": 19,
      "outputs": [
        {
          "output_type": "stream",
          "name": "stdout",
          "text": [
            "Angle of vector v in degrees: 53.13010235415598\n"
          ]
        }
      ]
    },
    {
      "cell_type": "code",
      "source": [
        "#Angle between Two Vectors\n",
        "\n",
        "u = np.array([1, 2, 3])\n",
        "v = np.array([-1, 1, 4])\n",
        "\n",
        "# Compute the dot product of the two vectors\n",
        "dot_product = np.dot(u, v)\n",
        "\n",
        "# Compute the norms of the vectors\n",
        "norm_u = np.linalg.norm(u)\n",
        "norm_v = np.linalg.norm(v)\n",
        "\n",
        "# Calculate the cosine of the angle between the vectors using the dot product and norms\n",
        "cosine_angle = dot_product / (norm_u * norm_v)\n",
        "\n",
        "# Calculates the angle in radians\n",
        "angle_rad = np.arccos(cosine_angle)\n",
        "\n",
        "# Convert the angle to degrees\n",
        "angle_deg = np.degrees(angle_rad)\n",
        "\n",
        "print(\"Angle between vectors u and v in degrees:\", angle_deg)"
      ],
      "metadata": {
        "colab": {
          "base_uri": "https://localhost:8080/"
        },
        "id": "TLsAkjNA5AxW",
        "outputId": "b08f5b96-f01b-46aa-c0bd-a86039b0b75a"
      },
      "execution_count": 20,
      "outputs": [
        {
          "output_type": "stream",
          "name": "stdout",
          "text": [
            "Angle between vectors u and v in degrees: 35.02287072387793\n"
          ]
        }
      ]
    },
    {
      "cell_type": "markdown",
      "source": [
        "# Vector Operations"
      ],
      "metadata": {
        "id": "MOARa01I5j1-"
      }
    },
    {
      "cell_type": "code",
      "source": [
        "#Vector addition\n",
        "u = np.array([1, 2, 3])\n",
        "v = np.array([-1, 1, 4])\n",
        "\n",
        "# Add vectors\n",
        "result = u + v\n",
        "\n",
        "print(\"Result of adding vectors u and v:\", result)"
      ],
      "metadata": {
        "colab": {
          "base_uri": "https://localhost:8080/"
        },
        "id": "mjov_NY-5kUa",
        "outputId": "1de9da6b-f88e-4d35-be6a-d12cb714e962"
      },
      "execution_count": 21,
      "outputs": [
        {
          "output_type": "stream",
          "name": "stdout",
          "text": [
            "Result of adding vectors u and v: [0 3 7]\n"
          ]
        }
      ]
    },
    {
      "cell_type": "code",
      "source": [
        "#Vector Subtraction\n",
        "\n",
        "u = np.array([1, 2, 3])\n",
        "v = np.array([-1, 1, 4])\n",
        "\n",
        "# Subtract the second vector from the first vector\n",
        "result = u - v\n",
        "\n",
        "print(\"Result of subtracting vector v from vector u:\", result)"
      ],
      "metadata": {
        "colab": {
          "base_uri": "https://localhost:8080/"
        },
        "id": "WnOonntS6his",
        "outputId": "af55f83e-dcaa-429f-8d18-31686d8751df"
      },
      "execution_count": 22,
      "outputs": [
        {
          "output_type": "stream",
          "name": "stdout",
          "text": [
            "Result of subtracting vector v from vector u: [ 2  1 -1]\n"
          ]
        }
      ]
    },
    {
      "cell_type": "code",
      "source": [
        "#Broadcasting\n",
        "\n",
        "u = np.array([[1, 2, 3]])\n",
        "v = np.array([[-1], [1], [4]])\n",
        "\n",
        "# Ensure that the shapes are compatible for broadcasting\n",
        "\n",
        "result = u + v\n",
        "\n",
        "print(\"Result of broadcasting vectors u and v:\", result)"
      ],
      "metadata": {
        "colab": {
          "base_uri": "https://localhost:8080/"
        },
        "id": "1Z5Y38wO7UkR",
        "outputId": "d5bd64a5-7fcf-4de7-ea75-ee92d5a41531"
      },
      "execution_count": 23,
      "outputs": [
        {
          "output_type": "stream",
          "name": "stdout",
          "text": [
            "Result of broadcasting vectors u and v: [[0 1 2]\n",
            " [2 3 4]\n",
            " [5 6 7]]\n"
          ]
        }
      ]
    },
    {
      "cell_type": "code",
      "source": [
        "#Broadcasting\n",
        "\n",
        "u = np.array([[1, 2, 3]])\n",
        "v = np.array([[-1], [1], [4]])\n",
        "\n",
        "# Ensure that the shapes are compatible for broadcasting\n",
        "\n",
        "result = u * v\n",
        "\n",
        "print(\"Result of broadcasting vectors u and v:\", result)"
      ],
      "metadata": {
        "colab": {
          "base_uri": "https://localhost:8080/"
        },
        "id": "lo64-HhUCWWp",
        "outputId": "4b9a4468-632b-4b69-bab9-203b6f321224"
      },
      "execution_count": 24,
      "outputs": [
        {
          "output_type": "stream",
          "name": "stdout",
          "text": [
            "Result of broadcasting vectors u and v: [[-1 -2 -3]\n",
            " [ 1  2  3]\n",
            " [ 4  8 12]]\n"
          ]
        }
      ]
    },
    {
      "cell_type": "code",
      "source": [
        "# Dot Product using np.dot\n",
        "\n",
        "u = np.array([1, 2, 3])\n",
        "v = np.array([-1, 1, 4])\n",
        "\n",
        "# Compute the dot product of u and v\n",
        "dot_product = np.dot(u, v)\n",
        "\n",
        "print(\"Dot product of vectors u and v:\", dot_product)"
      ],
      "metadata": {
        "colab": {
          "base_uri": "https://localhost:8080/"
        },
        "id": "VHt8GKur8RfY",
        "outputId": "5c40fa8e-ab6c-4d5a-9e52-4fba85e2b161"
      },
      "execution_count": 25,
      "outputs": [
        {
          "output_type": "stream",
          "name": "stdout",
          "text": [
            "Dot product of vectors u and v: 13\n"
          ]
        }
      ]
    },
    {
      "cell_type": "code",
      "source": [
        "# Dot Product using @\n",
        "\n",
        "\n",
        "u = np.array([1, 2, 3])\n",
        "v = np.array([-1, 1, 4])\n",
        "\n",
        "# Compute the dot product of u and v using the @ operator\n",
        "dot_product = u @ v\n",
        "\n",
        "print(\"Dot product of vectors u and v:\", dot_product)"
      ],
      "metadata": {
        "colab": {
          "base_uri": "https://localhost:8080/"
        },
        "id": "AoSj4ygI8rJs",
        "outputId": "d06d23e4-5e19-437d-f759-a819ddcac03e"
      },
      "execution_count": 26,
      "outputs": [
        {
          "output_type": "stream",
          "name": "stdout",
          "text": [
            "Dot product of vectors u and v: 13\n"
          ]
        }
      ]
    },
    {
      "cell_type": "code",
      "source": [
        "# Cross product\n",
        "import numpy as np\n",
        "\n",
        "u = np.array([1, 2, 3])\n",
        "v = np.array([-1, 1, 4])\n",
        "\n",
        "# Compute the vector product of u and v\n",
        "vector_product = np.cross(u, v)\n",
        "\n",
        "print(\"Vector product of vectors u and v:\", vector_product)"
      ],
      "metadata": {
        "colab": {
          "base_uri": "https://localhost:8080/"
        },
        "id": "iv2DlyPo9AJ5",
        "outputId": "a3866170-b030-4f0d-c06c-c506b2d3c826"
      },
      "execution_count": 27,
      "outputs": [
        {
          "output_type": "stream",
          "name": "stdout",
          "text": [
            "Vector product of vectors u and v: [ 5 -7  3]\n"
          ]
        }
      ]
    },
    {
      "cell_type": "markdown",
      "source": [
        "# Transpose"
      ],
      "metadata": {
        "id": "Nazp0ObyjFTq"
      }
    },
    {
      "cell_type": "code",
      "source": [
        "# Transpose using the .T attribute\n",
        "import numpy as np\n",
        "\n",
        "# Define a column vector\n",
        "v = np.array([[1],\n",
        "              [2],\n",
        "              [3]])\n",
        "\n",
        "v_transpose = v.T\n",
        "\n",
        "print(\"Original vector:\")\n",
        "print(v)\n",
        "print(\"\\nTranspose of the vector:\")\n",
        "print(v_transpose)\n",
        "\n",
        "# v_transpose should be a row vector"
      ],
      "metadata": {
        "colab": {
          "base_uri": "https://localhost:8080/"
        },
        "id": "LO2kIotijJFq",
        "outputId": "c192166e-4d8d-498c-f147-03474560bbf3"
      },
      "execution_count": 1,
      "outputs": [
        {
          "output_type": "stream",
          "name": "stdout",
          "text": [
            "Original vector:\n",
            "[[1]\n",
            " [2]\n",
            " [3]]\n",
            "\n",
            "Transpose of the vector:\n",
            "[[1 2 3]]\n"
          ]
        }
      ]
    },
    {
      "cell_type": "code",
      "source": [
        "# Transpose using numpy.transpose() function\n",
        "\n",
        "import numpy as np\n",
        "\n",
        "# Define a column vector\n",
        "v = np.array([[1],\n",
        "              [2],\n",
        "              [3]])\n",
        "\n",
        "v_transpose = np.transpose(v)\n",
        "\n",
        "print(\"Original vector:\")\n",
        "print(v)\n",
        "print(\"\\nTranspose of the vector:\")\n",
        "print(v_transpose)\n",
        "\n",
        "# v_transpose should be a row vector"
      ],
      "metadata": {
        "colab": {
          "base_uri": "https://localhost:8080/"
        },
        "id": "fwWTUN2QjJT8",
        "outputId": "8859f4ac-25ec-4ff4-d1c6-0879cc13aa49"
      },
      "execution_count": 2,
      "outputs": [
        {
          "output_type": "stream",
          "name": "stdout",
          "text": [
            "Original vector:\n",
            "[[1]\n",
            " [2]\n",
            " [3]]\n",
            "\n",
            "Transpose of the vector:\n",
            "[[1 2 3]]\n"
          ]
        }
      ]
    }
  ]
}