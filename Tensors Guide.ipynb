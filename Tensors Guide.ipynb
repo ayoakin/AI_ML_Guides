{
  "nbformat": 4,
  "nbformat_minor": 0,
  "metadata": {
    "colab": {
      "provenance": []
    },
    "kernelspec": {
      "name": "python3",
      "display_name": "Python 3"
    },
    "language_info": {
      "name": "python"
    }
  },
  "cells": [
    {
      "cell_type": "markdown",
      "source": [
        "# Tensor Properties"
      ],
      "metadata": {
        "id": "pylltEbsEHFB"
      }
    },
    {
      "cell_type": "markdown",
      "source": [
        "## Rank"
      ],
      "metadata": {
        "id": "oQl3ziCSEMaM"
      }
    },
    {
      "cell_type": "code",
      "source": [
        "import torch\n",
        "\n",
        "# Create a 3D tensor (rank 3)\n",
        "tensor = torch.ones(2, 3, 4)\n",
        "\n",
        "# Find the rank (number of dimensions)\n",
        "rank1 = tensor.dim()\n",
        "rank2 = tensor.ndim\n",
        "print(f\"Rank of the tensor: {rank1}\")\n",
        "print(f\"Rank of the tensor: {rank2}\")"
      ],
      "metadata": {
        "colab": {
          "base_uri": "https://localhost:8080/"
        },
        "id": "kALPhYvd82Eq",
        "outputId": "00f6c376-b79c-4fc3-b165-0e452e64647a"
      },
      "execution_count": 1,
      "outputs": [
        {
          "output_type": "stream",
          "name": "stdout",
          "text": [
            "Rank of the tensor: 3\n",
            "Rank of the tensor: 3\n"
          ]
        }
      ]
    },
    {
      "cell_type": "markdown",
      "source": [
        "##Shape"
      ],
      "metadata": {
        "id": "z-niznw9EPsr"
      }
    },
    {
      "cell_type": "code",
      "source": [
        "# Create a 2D tensor\n",
        "tensor = torch.randn(5, 3)\n",
        "\n",
        "# Get the shape of the tensor\n",
        "shape = tensor.shape\n",
        "size  = tensor.size()\n",
        "\n",
        "print(f\"Shape of the tensor: {shape}\")\n",
        "\n",
        "print(f\"Shape of the tensor: {size}\")"
      ],
      "metadata": {
        "colab": {
          "base_uri": "https://localhost:8080/"
        },
        "id": "VHqFXK94EF0h",
        "outputId": "737996b2-9143-4474-d83b-a9f947a5e56e"
      },
      "execution_count": 2,
      "outputs": [
        {
          "output_type": "stream",
          "name": "stdout",
          "text": [
            "Shape of the tensor: torch.Size([5, 3])\n",
            "Shape of the tensor: torch.Size([5, 3])\n"
          ]
        }
      ]
    },
    {
      "cell_type": "markdown",
      "source": [
        "## Data Type"
      ],
      "metadata": {
        "id": "sQR4rTHWETGB"
      }
    },
    {
      "cell_type": "code",
      "source": [
        "# Create a float tensor\n",
        "tensor = torch.tensor([1.0, 2.0, 3.0])\n",
        "\n",
        "# Find the data type of the tensor\n",
        "data_type = tensor.dtype\n",
        "print(f\"Data type of the tensor: {data_type}\")"
      ],
      "metadata": {
        "colab": {
          "base_uri": "https://localhost:8080/"
        },
        "id": "0rKHWlgqEY82",
        "outputId": "39e25545-dcf6-47f0-de2c-8ce403f4355f"
      },
      "execution_count": 3,
      "outputs": [
        {
          "output_type": "stream",
          "name": "stdout",
          "text": [
            "Data type of the tensor: torch.float32\n"
          ]
        }
      ]
    },
    {
      "cell_type": "code",
      "source": [
        "# Float 32 tensor\n",
        "\n",
        "float_32_tensor = torch.tensor([2.0,4.0,8.0],\n",
        "                               dtype = None,\n",
        "                               device=None,\n",
        "                               requires_grad=False)\n",
        "\n",
        "float_32_tensor.dtype"
      ],
      "metadata": {
        "colab": {
          "base_uri": "https://localhost:8080/"
        },
        "id": "UmKnHHAsGTSh",
        "outputId": "009ddf11-db55-4188-c40b-5b51979a1222"
      },
      "execution_count": 4,
      "outputs": [
        {
          "output_type": "execute_result",
          "data": {
            "text/plain": [
              "torch.float32"
            ]
          },
          "metadata": {},
          "execution_count": 4
        }
      ]
    },
    {
      "cell_type": "code",
      "source": [
        "#changing tensor datatypes\n",
        "\n",
        "float_16_tensor = float_32_tensor.type(torch.float16)\n",
        "\n",
        "float_16_tensor"
      ],
      "metadata": {
        "colab": {
          "base_uri": "https://localhost:8080/"
        },
        "id": "C-H1JnJJGHRD",
        "outputId": "33bede62-4412-4628-b226-b9ed35da3e33"
      },
      "execution_count": 5,
      "outputs": [
        {
          "output_type": "execute_result",
          "data": {
            "text/plain": [
              "tensor([2., 4., 8.], dtype=torch.float16)"
            ]
          },
          "metadata": {},
          "execution_count": 5
        }
      ]
    },
    {
      "cell_type": "markdown",
      "source": [
        "##Device Type"
      ],
      "metadata": {
        "id": "9DVVP_JYEnwe"
      }
    },
    {
      "cell_type": "code",
      "source": [
        "# Create a tensor and move it to GPU if available\n",
        "tensor = torch.randn(3, 3).to('cuda' if torch.cuda.is_available() else 'cpu')\n",
        "\n",
        "# Check the device type\n",
        "device = tensor.device\n",
        "print(f\"Tensor is on device: {device}\")"
      ],
      "metadata": {
        "colab": {
          "base_uri": "https://localhost:8080/"
        },
        "id": "KA5Ds8vbEqld",
        "outputId": "6407e964-b2de-4dc7-a6d3-0be567b28cce"
      },
      "execution_count": 6,
      "outputs": [
        {
          "output_type": "stream",
          "name": "stdout",
          "text": [
            "Tensor is on device: cpu\n"
          ]
        }
      ]
    },
    {
      "cell_type": "markdown",
      "source": [
        "##Gradient Tracking"
      ],
      "metadata": {
        "id": "jVvmIZmTEkRv"
      }
    },
    {
      "cell_type": "code",
      "source": [
        "# Create a tensor with gradient tracking\n",
        "tensor = torch.randn(2, 2, requires_grad=True)\n",
        "\n",
        "# Check if the tensor is tracking gradients\n",
        "is_tracking_grad = tensor.requires_grad\n",
        "print(f\"Is tensor tracking gradients? {is_tracking_grad}\")"
      ],
      "metadata": {
        "colab": {
          "base_uri": "https://localhost:8080/"
        },
        "id": "N78rGX-bEj5z",
        "outputId": "d9b11518-cc13-46e9-c80a-0d3b6ece63b6"
      },
      "execution_count": 7,
      "outputs": [
        {
          "output_type": "stream",
          "name": "stdout",
          "text": [
            "Is tensor tracking gradients? True\n"
          ]
        }
      ]
    },
    {
      "cell_type": "markdown",
      "source": [
        "# Tensor Types"
      ],
      "metadata": {
        "id": "sl7HZGesMl5J"
      }
    },
    {
      "cell_type": "code",
      "source": [
        "# Zero-order tensor (scalar)\n",
        "zero_order_tensor = torch.tensor(42)\n",
        "print(\"Zero-Order Tensor:\", zero_order_tensor)\n",
        "print(\"Shape:\", zero_order_tensor.shape)  # Output: torch.Size([])\n",
        "print(\"Rank (ndim):\", zero_order_tensor.ndim)  # Output: 0"
      ],
      "metadata": {
        "colab": {
          "base_uri": "https://localhost:8080/"
        },
        "id": "-h5O-WzZMrMC",
        "outputId": "3c1af941-c8d5-47b8-c37b-85fe3fe7cb3c"
      },
      "execution_count": 8,
      "outputs": [
        {
          "output_type": "stream",
          "name": "stdout",
          "text": [
            "Zero-Order Tensor: tensor(42)\n",
            "Shape: torch.Size([])\n",
            "Rank (ndim): 0\n"
          ]
        }
      ]
    },
    {
      "cell_type": "code",
      "source": [
        "# First-order tensor (vector)\n",
        "first_order_tensor = torch.tensor([1, 2, 3, 4])\n",
        "print(\"\\nFirst-Order Tensor:\", first_order_tensor)\n",
        "print(\"Shape:\", first_order_tensor.shape)  # Output: torch.Size([4])\n",
        "print(\"Rank (ndim):\", first_order_tensor.ndim)  # Output: 1"
      ],
      "metadata": {
        "colab": {
          "base_uri": "https://localhost:8080/"
        },
        "id": "Hs73ddOENS1e",
        "outputId": "ed0eb9a1-5c48-4a13-9b6d-978663a26eca"
      },
      "execution_count": 9,
      "outputs": [
        {
          "output_type": "stream",
          "name": "stdout",
          "text": [
            "\n",
            "First-Order Tensor: tensor([1, 2, 3, 4])\n",
            "Shape: torch.Size([4])\n",
            "Rank (ndim): 1\n"
          ]
        }
      ]
    },
    {
      "cell_type": "code",
      "source": [
        "# Second-order tensor (matrix)\n",
        "second_order_tensor = torch.tensor([[1, 2], [3, 4], [5, 6]])\n",
        "print(\"\\nSecond-Order Tensor:\", second_order_tensor)\n",
        "print(\"Shape:\", second_order_tensor.shape)  # Output: torch.Size([3, 2])\n",
        "print(\"Rank (ndim):\", second_order_tensor.ndim)  # Output: 2"
      ],
      "metadata": {
        "colab": {
          "base_uri": "https://localhost:8080/"
        },
        "id": "Ehf8i8g5OMdR",
        "outputId": "a59da7d0-5143-4d54-feef-5dbcc298c079"
      },
      "execution_count": 10,
      "outputs": [
        {
          "output_type": "stream",
          "name": "stdout",
          "text": [
            "\n",
            "Second-Order Tensor: tensor([[1, 2],\n",
            "        [3, 4],\n",
            "        [5, 6]])\n",
            "Shape: torch.Size([3, 2])\n",
            "Rank (ndim): 2\n"
          ]
        }
      ]
    },
    {
      "cell_type": "code",
      "source": [
        "# Third-order tensor (3D tensor)\n",
        "third_order_tensor = torch.tensor([[[1, 2], [3, 4]], [[5, 6], [7, 8]]])\n",
        "print(\"\\nThird-Order Tensor:\", third_order_tensor)\n",
        "print(\"Shape:\", third_order_tensor.shape)  # Output: torch.Size([2, 2, 2])\n",
        "print(\"Rank (ndim):\", third_order_tensor.ndim)  # Output: 3"
      ],
      "metadata": {
        "colab": {
          "base_uri": "https://localhost:8080/"
        },
        "id": "BS_3nikjOuk2",
        "outputId": "9305a406-dafe-496f-f66d-ce5688859ba9"
      },
      "execution_count": 11,
      "outputs": [
        {
          "output_type": "stream",
          "name": "stdout",
          "text": [
            "\n",
            "Third-Order Tensor: tensor([[[1, 2],\n",
            "         [3, 4]],\n",
            "\n",
            "        [[5, 6],\n",
            "         [7, 8]]])\n",
            "Shape: torch.Size([2, 2, 2])\n",
            "Rank (ndim): 3\n"
          ]
        }
      ]
    },
    {
      "cell_type": "code",
      "source": [
        "# Fourth-order tensor (4D tensor)\n",
        "\n",
        "fourth_order_tensor = torch.randn(2, 3, 4, 5)  # Random tensor with 4 dimensions\n",
        "print(\"\\nFourth-Order Tensor:\", fourth_order_tensor)\n",
        "print(\"Shape:\", fourth_order_tensor.shape)  # Output: torch.Size([2, 3, 4, 5])\n",
        "print(\"Rank (ndim):\", fourth_order_tensor.ndim)  # Output: 4"
      ],
      "metadata": {
        "colab": {
          "base_uri": "https://localhost:8080/"
        },
        "id": "hGD0UlWpO_8i",
        "outputId": "806acbec-204c-4dbe-bfae-cf4f87b2086f"
      },
      "execution_count": 12,
      "outputs": [
        {
          "output_type": "stream",
          "name": "stdout",
          "text": [
            "\n",
            "Fourth-Order Tensor: tensor([[[[ 0.7184, -1.1759,  0.3779,  1.2230,  0.4053],\n",
            "          [ 0.5445, -0.1487,  1.7159,  0.1013, -0.3567],\n",
            "          [ 1.7053,  0.1474,  0.4381,  0.7176,  1.0513],\n",
            "          [ 0.7621, -0.2378, -2.2279, -1.6423,  1.1999]],\n",
            "\n",
            "         [[ 1.5113,  2.3815,  0.6530, -0.7108, -0.3061],\n",
            "          [-0.9021,  0.4295,  1.2186,  0.3343, -1.1468],\n",
            "          [-0.5641, -0.7349,  0.0927, -0.3744, -1.1019],\n",
            "          [ 0.7269, -0.8991, -1.4320, -0.0114,  0.1915]],\n",
            "\n",
            "         [[-0.8226,  0.9726, -1.6931, -0.0718, -1.4218],\n",
            "          [ 0.1519,  0.2318, -1.8445,  2.7314, -2.1557],\n",
            "          [-0.7162,  0.1386,  0.2182,  1.8131, -1.4794],\n",
            "          [-1.2180, -0.3261, -0.2293, -0.3521,  0.0360]]],\n",
            "\n",
            "\n",
            "        [[[ 0.5601, -0.5021,  1.4304,  0.5707,  0.6636],\n",
            "          [ 0.4410,  0.1389,  1.1070,  1.9952, -0.4964],\n",
            "          [-0.2074, -0.6577, -0.2493, -0.8475,  1.3141],\n",
            "          [-0.3977, -0.1704,  0.8616,  1.0934,  0.0063]],\n",
            "\n",
            "         [[ 1.4011, -1.1522, -0.0458,  0.6235, -0.6250],\n",
            "          [-0.4711,  0.9136, -1.9427, -0.0441,  1.9035],\n",
            "          [ 1.0175,  0.4693,  0.3393,  0.0059,  0.2586],\n",
            "          [-1.5006,  2.0513, -1.7565, -0.1520,  0.0333]],\n",
            "\n",
            "         [[-0.7754,  0.7678, -0.9653, -0.0250, -0.5959],\n",
            "          [-0.4581, -0.6155,  0.1578,  0.5640,  0.2045],\n",
            "          [ 0.4847, -2.1282,  0.6942,  0.2258, -1.2622],\n",
            "          [-2.6337,  2.9259,  1.2479, -1.7314, -0.0460]]]])\n",
            "Shape: torch.Size([2, 3, 4, 5])\n",
            "Rank (ndim): 4\n"
          ]
        }
      ]
    },
    {
      "cell_type": "markdown",
      "source": [
        "# Tensor Creation"
      ],
      "metadata": {
        "id": "rLSAKtVVQEKu"
      }
    },
    {
      "cell_type": "code",
      "source": [
        "# Random tensor of shape (3, 3) with values sampled from a uniform distribution\n",
        "random_tensor = torch.rand(3, 3)\n",
        "print(\"Random Tensor (Uniform Distribution):\\n\", random_tensor)\n",
        "\n",
        "# Random tensor of shape (3, 3) with values sampled from a normal (Gaussian) distribution\n",
        "random_normal_tensor = torch.randn(3, 3)\n",
        "print(\"\\nRandom Tensor (Normal Distribution):\\n\", random_normal_tensor)"
      ],
      "metadata": {
        "colab": {
          "base_uri": "https://localhost:8080/"
        },
        "id": "pI3-dsrrQLUT",
        "outputId": "25f1571b-dd40-4f70-e918-d93e294b35c8"
      },
      "execution_count": 13,
      "outputs": [
        {
          "output_type": "stream",
          "name": "stdout",
          "text": [
            "Random Tensor (Uniform Distribution):\n",
            " tensor([[0.5563, 0.8899, 0.2254],\n",
            "        [0.2598, 0.0212, 0.0812],\n",
            "        [0.8356, 0.4148, 0.3470]])\n",
            "\n",
            "Random Tensor (Normal Distribution):\n",
            " tensor([[-1.7291, -1.0753, -1.4712],\n",
            "        [ 0.1021, -0.4217, -0.5622],\n",
            "        [ 0.9506, -0.1003, -0.0793]])\n"
          ]
        }
      ]
    },
    {
      "cell_type": "code",
      "source": [
        "# Tensor of all zeros of shape (2, 2)\n",
        "zero_tensor = torch.zeros(2, 2)\n",
        "print(\"Zeros Tensor:\\n\", zero_tensor)\n",
        "\n",
        "# Tensor of all ones of shape (2, 2)\n",
        "ones_tensor = torch.ones(2, 2)\n",
        "print(\"\\nOnes Tensor:\\n\", ones_tensor)"
      ],
      "metadata": {
        "colab": {
          "base_uri": "https://localhost:8080/"
        },
        "id": "fK3xhLEQRW8x",
        "outputId": "d8d5c309-3919-42a5-9f55-d9d8513cc120"
      },
      "execution_count": 14,
      "outputs": [
        {
          "output_type": "stream",
          "name": "stdout",
          "text": [
            "Zeros Tensor:\n",
            " tensor([[0., 0.],\n",
            "        [0., 0.]])\n",
            "\n",
            "Ones Tensor:\n",
            " tensor([[1., 1.],\n",
            "        [1., 1.]])\n"
          ]
        }
      ]
    },
    {
      "cell_type": "code",
      "source": [
        "# Tensor with values from 0 to 9\n",
        "range_tensor = torch.arange(10)\n",
        "print(\"Range Tensor:\\n\", range_tensor)\n",
        "\n",
        "# Tensor with values from 0 to 9, with step size of 2\n",
        "step_range_tensor = torch.arange(0, 10, 2)\n",
        "print(\"\\nRange Tensor with step size 2:\\n\", step_range_tensor)"
      ],
      "metadata": {
        "colab": {
          "base_uri": "https://localhost:8080/"
        },
        "id": "BjVxjRe9Rl1H",
        "outputId": "62af2109-336f-45ec-c158-acf1f5d0343c"
      },
      "execution_count": 15,
      "outputs": [
        {
          "output_type": "stream",
          "name": "stdout",
          "text": [
            "Range Tensor:\n",
            " tensor([0, 1, 2, 3, 4, 5, 6, 7, 8, 9])\n",
            "\n",
            "Range Tensor with step size 2:\n",
            " tensor([0, 2, 4, 6, 8])\n"
          ]
        }
      ]
    },
    {
      "cell_type": "code",
      "source": [
        "# Create a random tensor\n",
        "original_tensor = torch.randn(3, 3)\n",
        "\n",
        "# Create a new tensor with the same shape and properties as `original_tensor`, but filled with zeros\n",
        "zeros_like_tensor = torch.zeros_like(original_tensor)\n",
        "print(\"Zeros-Like Tensor:\\n\", zeros_like_tensor)\n",
        "\n",
        "# Create a new tensor with the same shape and properties as `original_tensor`, but filled with ones\n",
        "ones_like_tensor = torch.ones_like(original_tensor)\n",
        "print(\"\\nOnes-Like Tensor:\\n\", ones_like_tensor)"
      ],
      "metadata": {
        "colab": {
          "base_uri": "https://localhost:8080/"
        },
        "id": "kpdiTIvSSJ1M",
        "outputId": "478f2fc6-f0d4-4e57-bbc4-a207258120a2"
      },
      "execution_count": 16,
      "outputs": [
        {
          "output_type": "stream",
          "name": "stdout",
          "text": [
            "Zeros-Like Tensor:\n",
            " tensor([[0., 0., 0.],\n",
            "        [0., 0., 0.],\n",
            "        [0., 0., 0.]])\n",
            "\n",
            "Ones-Like Tensor:\n",
            " tensor([[1., 1., 1.],\n",
            "        [1., 1., 1.],\n",
            "        [1., 1., 1.]])\n"
          ]
        }
      ]
    },
    {
      "cell_type": "code",
      "source": [
        "# Tensor with all elements set to a constant value of 5\n",
        "constant_tensor = torch.full((3, 3), 5)\n",
        "print(\"\\nConstant Tensor:\\n\", constant_tensor)"
      ],
      "metadata": {
        "colab": {
          "base_uri": "https://localhost:8080/"
        },
        "id": "TXr9HwC2Sshg",
        "outputId": "9c3931b8-7ab4-4f11-eab5-d14d96f76fbb"
      },
      "execution_count": 17,
      "outputs": [
        {
          "output_type": "stream",
          "name": "stdout",
          "text": [
            "\n",
            "Constant Tensor:\n",
            " tensor([[5, 5, 5],\n",
            "        [5, 5, 5],\n",
            "        [5, 5, 5]])\n"
          ]
        }
      ]
    },
    {
      "cell_type": "code",
      "source": [
        "# 3x3 identity matrix\n",
        "identity_tensor = torch.eye(3)\n",
        "print(\"\\nIdentity Tensor:\\n\", identity_tensor)"
      ],
      "metadata": {
        "colab": {
          "base_uri": "https://localhost:8080/"
        },
        "id": "HCw7Y4F8S-LF",
        "outputId": "878a0662-d851-4341-e36a-e25561426468"
      },
      "execution_count": 18,
      "outputs": [
        {
          "output_type": "stream",
          "name": "stdout",
          "text": [
            "\n",
            "Identity Tensor:\n",
            " tensor([[1., 0., 0.],\n",
            "        [0., 1., 0.],\n",
            "        [0., 0., 1.]])\n"
          ]
        }
      ]
    },
    {
      "cell_type": "code",
      "source": [
        "# Tensor with 5 equally spaced values between 0 and 10\n",
        "linspace_tensor = torch.linspace(0, 10, steps=5)\n",
        "print(\"\\nLinspace Tensor:\\n\", linspace_tensor)"
      ],
      "metadata": {
        "colab": {
          "base_uri": "https://localhost:8080/"
        },
        "id": "0ncmCCGzTvJ4",
        "outputId": "e095f9f3-c1c6-4f20-e670-0c3f624051e0"
      },
      "execution_count": 19,
      "outputs": [
        {
          "output_type": "stream",
          "name": "stdout",
          "text": [
            "\n",
            "Linspace Tensor:\n",
            " tensor([ 0.0000,  2.5000,  5.0000,  7.5000, 10.0000])\n"
          ]
        }
      ]
    },
    {
      "cell_type": "code",
      "source": [
        "# Empty tensor of shape (2, 2)\n",
        "\n",
        "empty_tensor = torch.empty(2, 2)\n",
        "print(\"\\nEmpty Tensor:\\n\", empty_tensor)"
      ],
      "metadata": {
        "colab": {
          "base_uri": "https://localhost:8080/"
        },
        "id": "YNJaO8y4Tv2M",
        "outputId": "e21a2f3d-eaa1-49ec-b98c-5275c615c265"
      },
      "execution_count": 20,
      "outputs": [
        {
          "output_type": "stream",
          "name": "stdout",
          "text": [
            "\n",
            "Empty Tensor:\n",
            " tensor([[1.9472e-07, 3.3365e-41],\n",
            "        [6.8799e-04, 4.3269e-41]])\n"
          ]
        }
      ]
    },
    {
      "cell_type": "code",
      "source": [
        "# Tensor from a Python list\n",
        "list_tensor = torch.tensor([1, 2, 3, 4])\n",
        "print(\"\\nTensor from List:\\n\", list_tensor)\n",
        "\n",
        "# Tensor from a NumPy array\n",
        "import numpy as np\n",
        "numpy_array = np.array([1, 2, 3])\n",
        "tensor_from_numpy = torch.from_numpy(numpy_array)\n",
        "print(\"\\nTensor from NumPy array:\\n\", tensor_from_numpy)"
      ],
      "metadata": {
        "colab": {
          "base_uri": "https://localhost:8080/"
        },
        "id": "ZCAGvfztTvev",
        "outputId": "a1b4ec7e-428d-4357-8d0d-57ac00f31027"
      },
      "execution_count": 21,
      "outputs": [
        {
          "output_type": "stream",
          "name": "stdout",
          "text": [
            "\n",
            "Tensor from List:\n",
            " tensor([1, 2, 3, 4])\n",
            "\n",
            "Tensor from NumPy array:\n",
            " tensor([1, 2, 3])\n"
          ]
        }
      ]
    },
    {
      "cell_type": "markdown",
      "source": [
        "# Tensor Operations\n"
      ],
      "metadata": {
        "id": "eW7SEjPMV8qN"
      }
    },
    {
      "cell_type": "markdown",
      "source": [
        "## Arithmetic Operations"
      ],
      "metadata": {
        "id": "y3gylZt1WX8f"
      }
    },
    {
      "cell_type": "code",
      "source": [
        "tensor_a = torch.tensor([[1, 2], [3, 4]])\n",
        "tensor_b = torch.tensor([[5, 6], [7, 8]])\n",
        "\n",
        "# Element-wise addition\n",
        "result_add = torch.add(tensor_a, tensor_b)\n",
        "print(result_add)"
      ],
      "metadata": {
        "colab": {
          "base_uri": "https://localhost:8080/"
        },
        "id": "-dsfQB6qV_4b",
        "outputId": "15851314-2952-4451-a86a-7c3b0bb1c6b9"
      },
      "execution_count": 22,
      "outputs": [
        {
          "output_type": "stream",
          "name": "stdout",
          "text": [
            "tensor([[ 6,  8],\n",
            "        [10, 12]])\n"
          ]
        }
      ]
    },
    {
      "cell_type": "code",
      "source": [
        "#Subtraction\n",
        "\n",
        "result_sub = torch.subtract(tensor_a, tensor_b)\n",
        "print(result_sub)"
      ],
      "metadata": {
        "colab": {
          "base_uri": "https://localhost:8080/"
        },
        "id": "F2you5msXHR-",
        "outputId": "b907ad20-6acb-4664-fcb3-b6af6113053a"
      },
      "execution_count": 23,
      "outputs": [
        {
          "output_type": "stream",
          "name": "stdout",
          "text": [
            "tensor([[-4, -4],\n",
            "        [-4, -4]])\n"
          ]
        }
      ]
    },
    {
      "cell_type": "code",
      "source": [
        "#Multiplication\n",
        "\n",
        "result_mul = torch.multiply(tensor_a, tensor_b)\n",
        "print(result_mul)"
      ],
      "metadata": {
        "colab": {
          "base_uri": "https://localhost:8080/"
        },
        "id": "kcqGpk3CXOlr",
        "outputId": "716321a9-88c3-40cf-f21a-4474e35863af"
      },
      "execution_count": 24,
      "outputs": [
        {
          "output_type": "stream",
          "name": "stdout",
          "text": [
            "tensor([[ 5, 12],\n",
            "        [21, 32]])\n"
          ]
        }
      ]
    },
    {
      "cell_type": "code",
      "source": [
        "# Division\n",
        "\n",
        "result_div = torch.divide(tensor_a, tensor_b)\n",
        "print(result_div)"
      ],
      "metadata": {
        "colab": {
          "base_uri": "https://localhost:8080/"
        },
        "id": "CfW20d__XTgl",
        "outputId": "645a5ec3-8e89-43bd-859c-c001343972bc"
      },
      "execution_count": 25,
      "outputs": [
        {
          "output_type": "stream",
          "name": "stdout",
          "text": [
            "tensor([[0.2000, 0.3333],\n",
            "        [0.4286, 0.5000]])\n"
          ]
        }
      ]
    },
    {
      "cell_type": "markdown",
      "source": [
        "## Matrix Operations"
      ],
      "metadata": {
        "id": "lt8mYan_Wc1W"
      }
    },
    {
      "cell_type": "code",
      "source": [
        "tensor_a = torch.tensor([[1, 2], [3, 4]])\n",
        "tensor_b = torch.tensor([[5, 6], [7, 8]])\n",
        "\n",
        "# Matrix multiplication\n",
        "result_matmul = torch.matmul(tensor_a, tensor_b)\n",
        "print(result_matmul)"
      ],
      "metadata": {
        "colab": {
          "base_uri": "https://localhost:8080/"
        },
        "id": "MPtqNGxpWjhc",
        "outputId": "3a51f623-aeca-482f-9a88-20b927be3633"
      },
      "execution_count": 26,
      "outputs": [
        {
          "output_type": "stream",
          "name": "stdout",
          "text": [
            "tensor([[19, 22],\n",
            "        [43, 50]])\n"
          ]
        }
      ]
    },
    {
      "cell_type": "code",
      "source": [
        "# Transposing a tensor\n",
        "result_transpose = tensor_a.t()\n",
        "print(result_transpose)"
      ],
      "metadata": {
        "colab": {
          "base_uri": "https://localhost:8080/"
        },
        "id": "htmjIUBrXfQW",
        "outputId": "f69bedfe-c758-48d8-c1be-b497907eb55c"
      },
      "execution_count": 27,
      "outputs": [
        {
          "output_type": "stream",
          "name": "stdout",
          "text": [
            "tensor([[1, 3],\n",
            "        [2, 4]])\n"
          ]
        }
      ]
    },
    {
      "cell_type": "markdown",
      "source": [
        "## Reduction Operations"
      ],
      "metadata": {
        "id": "MgtWYwAGWkNP"
      }
    },
    {
      "cell_type": "code",
      "source": [
        "#sum\n",
        "\n",
        "result_sum = torch.sum(tensor_a)\n",
        "print(result_sum)"
      ],
      "metadata": {
        "colab": {
          "base_uri": "https://localhost:8080/"
        },
        "id": "8VIqVp8LWoS-",
        "outputId": "19e9d003-88d8-4ac3-a778-ef8851b43d5e"
      },
      "execution_count": 28,
      "outputs": [
        {
          "output_type": "stream",
          "name": "stdout",
          "text": [
            "tensor(10)\n"
          ]
        }
      ]
    },
    {
      "cell_type": "code",
      "source": [
        "#mean\n",
        "\n",
        "result_mean = torch.mean(tensor_a.float())\n",
        "print(result_mean)"
      ],
      "metadata": {
        "colab": {
          "base_uri": "https://localhost:8080/"
        },
        "id": "wPPgpZzLXnij",
        "outputId": "56797f72-9c1e-4d7e-e67e-48996a1d8620"
      },
      "execution_count": 29,
      "outputs": [
        {
          "output_type": "stream",
          "name": "stdout",
          "text": [
            "tensor(2.5000)\n"
          ]
        }
      ]
    },
    {
      "cell_type": "code",
      "source": [
        "#max\n",
        "\n",
        "result_max = torch.max(tensor_a)\n",
        "print(result_max)"
      ],
      "metadata": {
        "colab": {
          "base_uri": "https://localhost:8080/"
        },
        "id": "6R4Iw4WtXuOK",
        "outputId": "abc38429-edcd-4cc0-98d9-9ff40c2aeb0c"
      },
      "execution_count": 30,
      "outputs": [
        {
          "output_type": "stream",
          "name": "stdout",
          "text": [
            "tensor(4)\n"
          ]
        }
      ]
    },
    {
      "cell_type": "markdown",
      "source": [
        "## Indexing and Slicing"
      ],
      "metadata": {
        "id": "d_-37muqWo-b"
      }
    },
    {
      "cell_type": "code",
      "source": [
        "# Access element at row 0, column 1\n",
        "\n",
        "element = tensor_a[0, 1]\n",
        "print(element)"
      ],
      "metadata": {
        "colab": {
          "base_uri": "https://localhost:8080/"
        },
        "id": "aSdGgFVlWstN",
        "outputId": "aa00a54c-8052-4cd5-e443-8fb9060c6523"
      },
      "execution_count": 31,
      "outputs": [
        {
          "output_type": "stream",
          "name": "stdout",
          "text": [
            "tensor(2)\n"
          ]
        }
      ]
    },
    {
      "cell_type": "code",
      "source": [
        "# Slicing: Select all rows, second column\n",
        "\n",
        "slice_tensor = tensor_a[:, 1]\n",
        "print(slice_tensor)"
      ],
      "metadata": {
        "colab": {
          "base_uri": "https://localhost:8080/"
        },
        "id": "3zPWMhfBX0yN",
        "outputId": "f0d568f7-92d9-425b-9a33-d33843b32ced"
      },
      "execution_count": 32,
      "outputs": [
        {
          "output_type": "stream",
          "name": "stdout",
          "text": [
            "tensor([2, 4])\n"
          ]
        }
      ]
    },
    {
      "cell_type": "markdown",
      "source": [
        "## Reshaping"
      ],
      "metadata": {
        "id": "bwsiGbvWWtE1"
      }
    },
    {
      "cell_type": "code",
      "source": [
        "# Changing the shape of a tensor (2x2 to 4x1)\n",
        "\n",
        "reshaped_tensor = tensor_a.view(4, 1)\n",
        "print(reshaped_tensor)"
      ],
      "metadata": {
        "colab": {
          "base_uri": "https://localhost:8080/"
        },
        "id": "J3PovmS-WyFs",
        "outputId": "99f87d69-e7a0-4ee5-9d36-43d65c83d717"
      },
      "execution_count": 33,
      "outputs": [
        {
          "output_type": "stream",
          "name": "stdout",
          "text": [
            "tensor([[1],\n",
            "        [2],\n",
            "        [3],\n",
            "        [4]])\n"
          ]
        }
      ]
    },
    {
      "cell_type": "markdown",
      "source": [
        "## Broadcasting"
      ],
      "metadata": {
        "id": "nP6RCLXUWydN"
      }
    },
    {
      "cell_type": "code",
      "source": [
        "tensor_a = torch.tensor([1, 2, 3])\n",
        "tensor_b = torch.tensor([[1], [2], [3]])\n",
        "\n",
        "# Broadcasting allows element-wise addition of different shapes\n",
        "result_broadcast = tensor_a + tensor_b\n",
        "print(result_broadcast)"
      ],
      "metadata": {
        "colab": {
          "base_uri": "https://localhost:8080/"
        },
        "id": "0iB9cCrZW1R7",
        "outputId": "1c5f0e29-fa14-44f9-cf98-8941a6d4fca4"
      },
      "execution_count": 34,
      "outputs": [
        {
          "output_type": "stream",
          "name": "stdout",
          "text": [
            "tensor([[2, 3, 4],\n",
            "        [3, 4, 5],\n",
            "        [4, 5, 6]])\n"
          ]
        }
      ]
    },
    {
      "cell_type": "markdown",
      "source": [
        "## Other Common Operations"
      ],
      "metadata": {
        "id": "4RU5wAsLW2ub"
      }
    },
    {
      "cell_type": "code",
      "source": [
        "# Create a tensor with values from 0 to 9\n",
        "arange_tensor = torch.arange(10)\n",
        "print(arange_tensor)"
      ],
      "metadata": {
        "colab": {
          "base_uri": "https://localhost:8080/"
        },
        "id": "LWybPf0DW7n3",
        "outputId": "ef7ede16-e895-4387-b22d-fea529919502"
      },
      "execution_count": 35,
      "outputs": [
        {
          "output_type": "stream",
          "name": "stdout",
          "text": [
            "tensor([0, 1, 2, 3, 4, 5, 6, 7, 8, 9])\n"
          ]
        }
      ]
    },
    {
      "cell_type": "code",
      "source": [
        "# Create a tensor with random permutation of integers from 0 to 9\n",
        "randperm_tensor = torch.randperm(10)\n",
        "print(randperm_tensor)"
      ],
      "metadata": {
        "colab": {
          "base_uri": "https://localhost:8080/"
        },
        "id": "OurnZiBJYPPz",
        "outputId": "67a2e769-e057-40c8-9efb-8a2b53d9c43b"
      },
      "execution_count": 36,
      "outputs": [
        {
          "output_type": "stream",
          "name": "stdout",
          "text": [
            "tensor([5, 1, 4, 6, 7, 2, 0, 8, 3, 9])\n"
          ]
        }
      ]
    },
    {
      "cell_type": "code",
      "source": [
        "# Create a tensor with uniform random values between 0 and 1\n",
        "uniform_tensor = torch.empty(3, 3).uniform_(0, 1)\n",
        "print(uniform_tensor)"
      ],
      "metadata": {
        "colab": {
          "base_uri": "https://localhost:8080/"
        },
        "id": "uTrGqMmiYTxA",
        "outputId": "c1310d44-02d1-4d09-c7cd-c82e5dde9e52"
      },
      "execution_count": 37,
      "outputs": [
        {
          "output_type": "stream",
          "name": "stdout",
          "text": [
            "tensor([[0.0463, 0.5272, 0.4778],\n",
            "        [0.8243, 0.9959, 0.3424],\n",
            "        [0.3541, 0.3129, 0.4393]])\n"
          ]
        }
      ]
    }
  ]
}