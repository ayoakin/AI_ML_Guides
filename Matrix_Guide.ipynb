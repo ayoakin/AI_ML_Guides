{
  "nbformat": 4,
  "nbformat_minor": 0,
  "metadata": {
    "colab": {
      "provenance": []
    },
    "kernelspec": {
      "name": "python3",
      "display_name": "Python 3"
    },
    "language_info": {
      "name": "python"
    }
  },
  "cells": [
    {
      "cell_type": "code",
      "execution_count": 46,
      "metadata": {
        "id": "bcbFo0A4qQDL"
      },
      "outputs": [],
      "source": [
        "import numpy as np"
      ]
    },
    {
      "cell_type": "markdown",
      "source": [
        "# Matrix Creation"
      ],
      "metadata": {
        "id": "ByEBjCXh2D93"
      }
    },
    {
      "cell_type": "code",
      "source": [
        "\n",
        "\n",
        "# From a list\n",
        "matrix1 = np.array([[1, 2, 3],\n",
        "                    [4, 5, 6],\n",
        "                    [7, 8, 9]])\n",
        "\n",
        "# From a tuple\n",
        "matrix2 = np.array(((1, 2, 3),\n",
        "                    (4, 5, 6),\n",
        "                    (7, 8, 9)))\n",
        "\n",
        "\n",
        "\n",
        "print (f'matrix from a list: {matrix1}')\n",
        "\n",
        "print (f'matrix from a tuple: {matrix2}')\n",
        "\n"
      ],
      "metadata": {
        "colab": {
          "base_uri": "https://localhost:8080/"
        },
        "id": "mBZp2Tz98H-Z",
        "outputId": "09d758fa-7364-4f9a-dbdc-d23d2085edd1"
      },
      "execution_count": 47,
      "outputs": [
        {
          "output_type": "stream",
          "name": "stdout",
          "text": [
            "matrix from a list: [[1 2 3]\n",
            " [4 5 6]\n",
            " [7 8 9]]\n",
            "matrix from a tuple: [[1 2 3]\n",
            " [4 5 6]\n",
            " [7 8 9]]\n"
          ]
        }
      ]
    },
    {
      "cell_type": "code",
      "source": [
        "# Using the np.matrix function\n",
        "\n",
        "matrix3 = np.matrix('1 2 3 4; 5 6 7 8; 9 10 11 12')\n",
        "\n",
        "print (f'matrix using matrix function: {matrix3}')"
      ],
      "metadata": {
        "colab": {
          "base_uri": "https://localhost:8080/"
        },
        "id": "JBucCkfacL42",
        "outputId": "0e9e5ddb-984d-4d74-eaee-e47dbf6ed38d"
      },
      "execution_count": 48,
      "outputs": [
        {
          "output_type": "stream",
          "name": "stdout",
          "text": [
            "matrix using matrix function: [[ 1  2  3  4]\n",
            " [ 5  6  7  8]\n",
            " [ 9 10 11 12]]\n"
          ]
        }
      ]
    },
    {
      "cell_type": "code",
      "source": [
        "# 3x3 matrix filled with zeros\n",
        "zeros_matrix = np.zeros((3, 3))\n",
        "\n",
        "# 3x3 matrix filled with ones\n",
        "ones_matrix = np.ones((3, 3))\n",
        "\n",
        "# 3x3 matrix filled with a specific value (e.g., 5)\n",
        "constant_matrix = np.full((3, 3), 5)\n",
        "\n",
        "\n",
        "print (f'matrix filled with zeros: {zeros_matrix}')\n",
        "\n",
        "print (f'matrix filled with ones: {ones_matrix}')\n",
        "\n",
        "print (f'matrix filled with a specific value: {constant_matrix}')"
      ],
      "metadata": {
        "colab": {
          "base_uri": "https://localhost:8080/"
        },
        "id": "j_5AdlvKaC_b",
        "outputId": "2c636519-16db-4ae5-e63b-f9e458411dab"
      },
      "execution_count": 49,
      "outputs": [
        {
          "output_type": "stream",
          "name": "stdout",
          "text": [
            "matrix filled with zeros: [[0. 0. 0.]\n",
            " [0. 0. 0.]\n",
            " [0. 0. 0.]]\n",
            "matrix filled with ones: [[1. 1. 1.]\n",
            " [1. 1. 1.]\n",
            " [1. 1. 1.]]\n",
            "matrix filled with a specific value: [[5 5 5]\n",
            " [5 5 5]\n",
            " [5 5 5]]\n"
          ]
        }
      ]
    },
    {
      "cell_type": "code",
      "source": [
        "# 3x3 identity matrix\n",
        "identity_matrix = np.eye(3)\n",
        "\n",
        "# Diagonal matrix from a list of diagonal elements\n",
        "diagonal_matrix = np.diag([1, 2, 3])\n",
        "\n",
        "print (f'Identity matrix: {identity_matrix}')\n",
        "\n",
        "print (f'diagonal matrix: {diagonal_matrix}')\n"
      ],
      "metadata": {
        "colab": {
          "base_uri": "https://localhost:8080/"
        },
        "id": "jWWTS7-Zaifk",
        "outputId": "6697ffac-bc0a-43e4-a0ef-f1d31dc7e4b9"
      },
      "execution_count": 50,
      "outputs": [
        {
          "output_type": "stream",
          "name": "stdout",
          "text": [
            "Identity matrix: [[1. 0. 0.]\n",
            " [0. 1. 0.]\n",
            " [0. 0. 1.]]\n",
            "diagonal matrix: [[1 0 0]\n",
            " [0 2 0]\n",
            " [0 0 3]]\n"
          ]
        }
      ]
    },
    {
      "cell_type": "code",
      "source": [
        "# 3x3 matrix with random numbers from a uniform distribution in [0, 1)\n",
        "random_matrix_uniform = np.random.rand(3, 3)\n",
        "\n",
        "# 3x3 matrix with random numbers from a standard normal distribution (mean=0, std=1)\n",
        "random_matrix_normal = np.random.randn(3, 3)\n",
        "\n",
        "print (f'Uniform random matrix: {random_matrix_uniform}')\n",
        "\n",
        "print (f'Uniform normal matrix: {random_matrix_normal}')\n"
      ],
      "metadata": {
        "colab": {
          "base_uri": "https://localhost:8080/"
        },
        "id": "zPheEvh8bEAZ",
        "outputId": "a440b1e4-e5f7-415d-99da-4b2f2cee304b"
      },
      "execution_count": 51,
      "outputs": [
        {
          "output_type": "stream",
          "name": "stdout",
          "text": [
            "Uniform random matrix: [[0.55192442 0.47554075 0.16964158]\n",
            " [0.65812634 0.84297482 0.61921691]\n",
            " [0.67319584 0.34134358 0.84129038]]\n",
            "Uniform normal matrix: [[ 0.90221014  1.60608033  0.97151039]\n",
            " [ 1.48515955  0.49263218  0.11675949]\n",
            " [-0.86083955 -0.54079195  0.09520094]]\n"
          ]
        }
      ]
    },
    {
      "cell_type": "code",
      "source": [
        "# Create a 1D array and reshape it into a 3x3 matrix\n",
        "matrix_from_1d_array = np.arange(1, 10).reshape(3, 3)\n",
        "\n",
        "print (f'Matrix from 1D array: {matrix_from_1d_array}')"
      ],
      "metadata": {
        "colab": {
          "base_uri": "https://localhost:8080/"
        },
        "id": "XyQG5-qdblgx",
        "outputId": "ce54bab5-52c5-4b67-be85-01a93c02b4d1"
      },
      "execution_count": 52,
      "outputs": [
        {
          "output_type": "stream",
          "name": "stdout",
          "text": [
            "Matrix from 1D array: [[1 2 3]\n",
            " [4 5 6]\n",
            " [7 8 9]]\n"
          ]
        }
      ]
    },
    {
      "cell_type": "markdown",
      "source": [
        "# Matrix  Operations"
      ],
      "metadata": {
        "id": "MOARa01I5j1-"
      }
    },
    {
      "cell_type": "code",
      "source": [
        "\n",
        "matrix1 = np.array([[1, 2, 3],\n",
        "                     [4, 5, 6],\n",
        "                     [7, 8, 9]])\n",
        "\n",
        "matrix2 = np.array([[9, 8, 7],\n",
        "                     [6, 5, 4],\n",
        "                     [3, 2, 1]])\n",
        "\n",
        "\n",
        "# matrix addition\n",
        "result_matrix = matrix1 + matrix2\n",
        "\n",
        "print(\"Matrix 1:\")\n",
        "print(matrix1)\n",
        "\n",
        "print(\"\\nMatrix 2:\")\n",
        "print(matrix2)\n",
        "\n",
        "print(\"\\nResult of matrix addition:\")\n",
        "print(result_matrix)"
      ],
      "metadata": {
        "colab": {
          "base_uri": "https://localhost:8080/"
        },
        "id": "mjov_NY-5kUa",
        "outputId": "21d6abff-7573-4c59-ddba-ea0b1fd37d0d"
      },
      "execution_count": 53,
      "outputs": [
        {
          "output_type": "stream",
          "name": "stdout",
          "text": [
            "Matrix 1:\n",
            "[[1 2 3]\n",
            " [4 5 6]\n",
            " [7 8 9]]\n",
            "\n",
            "Matrix 2:\n",
            "[[9 8 7]\n",
            " [6 5 4]\n",
            " [3 2 1]]\n",
            "\n",
            "Result of matrix addition:\n",
            "[[10 10 10]\n",
            " [10 10 10]\n",
            " [10 10 10]]\n"
          ]
        }
      ]
    },
    {
      "cell_type": "code",
      "source": [
        "# matrix subtraction\n",
        "\n",
        "\n",
        "\n",
        "matrix1 = np.array([[1, 2, 3],\n",
        "                     [4, 5, 6],\n",
        "                     [7, 8, 9]])\n",
        "\n",
        "matrix2 = np.array([[9, 8, 7],\n",
        "                     [6, 5, 4],\n",
        "                     [3, 2, 1]])\n",
        "\n",
        "\n",
        "result_matrix = matrix1 - matrix2\n",
        "\n",
        "print(\"Matrix 1:\")\n",
        "print(matrix1)\n",
        "\n",
        "print(\"\\nMatrix 2:\")\n",
        "print(matrix2)\n",
        "\n",
        "print(\"\\nResult of matrix subtraction:\")\n",
        "print(result_matrix)"
      ],
      "metadata": {
        "colab": {
          "base_uri": "https://localhost:8080/"
        },
        "id": "WnOonntS6his",
        "outputId": "6e3b9d08-bfee-47ec-9f51-bb20cd88b5d0"
      },
      "execution_count": 54,
      "outputs": [
        {
          "output_type": "stream",
          "name": "stdout",
          "text": [
            "Matrix 1:\n",
            "[[1 2 3]\n",
            " [4 5 6]\n",
            " [7 8 9]]\n",
            "\n",
            "Matrix 2:\n",
            "[[9 8 7]\n",
            " [6 5 4]\n",
            " [3 2 1]]\n",
            "\n",
            "Result of matrix subtraction:\n",
            "[[-8 -6 -4]\n",
            " [-2  0  2]\n",
            " [ 4  6  8]]\n"
          ]
        }
      ]
    },
    {
      "cell_type": "code",
      "source": [
        "# Scalar Multiplication\n",
        "\n",
        "\n",
        "matrix = np.array([[1, 2, 3],\n",
        "                   [4, 5, 6],\n",
        "                   [7, 8, 9]])\n",
        "\n",
        "# Define a scalar\n",
        "scalar = 2\n",
        "\n",
        "# Perform scalar multiplication\n",
        "result_matrix = scalar * matrix\n",
        "\n",
        "print(\"Original Matrix:\")\n",
        "print(matrix)\n",
        "\n",
        "print(\"\\nScalar:\")\n",
        "print(scalar)\n",
        "\n",
        "print(\"\\nResult of scalar multiplication:\")\n",
        "print(result_matrix)"
      ],
      "metadata": {
        "colab": {
          "base_uri": "https://localhost:8080/"
        },
        "id": "1Z5Y38wO7UkR",
        "outputId": "8432ed4c-d824-46e4-ec83-faf9045d6acc"
      },
      "execution_count": 55,
      "outputs": [
        {
          "output_type": "stream",
          "name": "stdout",
          "text": [
            "Original Matrix:\n",
            "[[1 2 3]\n",
            " [4 5 6]\n",
            " [7 8 9]]\n",
            "\n",
            "Scalar:\n",
            "2\n",
            "\n",
            "Result of scalar multiplication:\n",
            "[[ 2  4  6]\n",
            " [ 8 10 12]\n",
            " [14 16 18]]\n"
          ]
        }
      ]
    },
    {
      "cell_type": "code",
      "source": [
        "# Matrix Multiplication\n",
        "\n",
        "\n",
        "\n",
        "matrix1 = np.array([[1, 2, 3],\n",
        "                    [4, 5, 6],\n",
        "                    [7, 8, 9]])\n",
        "\n",
        "matrix2 = np.array([[9, 8, 7],\n",
        "                    [6, 5, 4],\n",
        "                    [3, 2, 1]])\n",
        "\n",
        "\n",
        "# Method 1: Using np.dot()\n",
        "result_matrix1 = np.dot(matrix1, matrix2)\n",
        "\n",
        "# Method 2: Using @ operator\n",
        "result_matrix2 = matrix1 @ matrix2\n",
        "\n",
        "print(\"Matrix 1:\")\n",
        "print(matrix1)\n",
        "\n",
        "print(\"\\nMatrix 2:\")\n",
        "print(matrix2)\n",
        "\n",
        "print(\"\\nResult of matrix multiplication (using np.dot()):\")\n",
        "print(result_matrix1)\n",
        "\n",
        "print(\"\\nResult of matrix multiplication (using @ operator):\")\n",
        "print(result_matrix2)"
      ],
      "metadata": {
        "colab": {
          "base_uri": "https://localhost:8080/"
        },
        "id": "VHt8GKur8RfY",
        "outputId": "571d267a-2a1b-4959-abfa-0c36bc83255d"
      },
      "execution_count": 56,
      "outputs": [
        {
          "output_type": "stream",
          "name": "stdout",
          "text": [
            "Matrix 1:\n",
            "[[1 2 3]\n",
            " [4 5 6]\n",
            " [7 8 9]]\n",
            "\n",
            "Matrix 2:\n",
            "[[9 8 7]\n",
            " [6 5 4]\n",
            " [3 2 1]]\n",
            "\n",
            "Result of matrix multiplication (using np.dot()):\n",
            "[[ 30  24  18]\n",
            " [ 84  69  54]\n",
            " [138 114  90]]\n",
            "\n",
            "Result of matrix multiplication (using @ operator):\n",
            "[[ 30  24  18]\n",
            " [ 84  69  54]\n",
            " [138 114  90]]\n"
          ]
        }
      ]
    },
    {
      "cell_type": "code",
      "source": [
        "# Hadamard product or Element wise Product\n",
        "\n",
        "\n",
        "\n",
        "matrix1 = np.array([[1, 2, 3],\n",
        "                    [4, 5, 6],\n",
        "                    [7, 8, 9]])\n",
        "\n",
        "matrix2 = np.array([[9, 8, 7],\n",
        "                    [6, 5, 4],\n",
        "                    [3, 2, 1]])\n",
        "\n",
        "# Perform Hadamard product\n",
        "result_matrix = matrix1 * matrix2\n",
        "\n",
        "print(\"Matrix 1:\")\n",
        "print(matrix1)\n",
        "\n",
        "print(\"\\nMatrix 2:\")\n",
        "print(matrix2)\n",
        "\n",
        "print(\"\\nResult of Hadamard product:\")\n",
        "print(result_matrix)\n"
      ],
      "metadata": {
        "colab": {
          "base_uri": "https://localhost:8080/"
        },
        "id": "AoSj4ygI8rJs",
        "outputId": "c404c4b5-458c-4ba5-8d98-0a2e884c764e"
      },
      "execution_count": 57,
      "outputs": [
        {
          "output_type": "stream",
          "name": "stdout",
          "text": [
            "Matrix 1:\n",
            "[[1 2 3]\n",
            " [4 5 6]\n",
            " [7 8 9]]\n",
            "\n",
            "Matrix 2:\n",
            "[[9 8 7]\n",
            " [6 5 4]\n",
            " [3 2 1]]\n",
            "\n",
            "Result of Hadamard product:\n",
            "[[ 9 16 21]\n",
            " [24 25 24]\n",
            " [21 16  9]]\n"
          ]
        }
      ]
    },
    {
      "cell_type": "code",
      "source": [
        "# Determinant of a Matrix\n",
        "\n",
        "\n",
        "matrix = np.array([[1, 2],\n",
        "                   [3, 4]])\n",
        "\n",
        "# Calculate the determinant\n",
        "determinant = np.linalg.det(matrix)\n",
        "\n",
        "print(\"Matrix:\")\n",
        "print(matrix)\n",
        "\n",
        "print(\"\\nDeterminant:\", determinant)"
      ],
      "metadata": {
        "colab": {
          "base_uri": "https://localhost:8080/"
        },
        "id": "iv2DlyPo9AJ5",
        "outputId": "cb8183ba-878d-4d0b-feaa-f15931c1c9c1"
      },
      "execution_count": 58,
      "outputs": [
        {
          "output_type": "stream",
          "name": "stdout",
          "text": [
            "Matrix:\n",
            "[[1 2]\n",
            " [3 4]]\n",
            "\n",
            "Determinant: -2.0000000000000004\n"
          ]
        }
      ]
    },
    {
      "cell_type": "code",
      "source": [
        "#Trace of a matrix\n",
        "\n",
        "\n",
        "matrix = np.array([[1, 2, 3],\n",
        "                   [4, 5, 6],\n",
        "                   [7, 8, 9]])\n",
        "\n",
        "trace = np.trace(matrix)\n",
        "\n",
        "print(\"Matrix:\")\n",
        "print(matrix)\n",
        "\n",
        "print(\"\\nTrace:\", trace)"
      ],
      "metadata": {
        "colab": {
          "base_uri": "https://localhost:8080/"
        },
        "id": "_eYFano4_Wzp",
        "outputId": "0a4952e4-2d4e-49e0-d15b-f6af8bdcd836"
      },
      "execution_count": 59,
      "outputs": [
        {
          "output_type": "stream",
          "name": "stdout",
          "text": [
            "Matrix:\n",
            "[[1 2 3]\n",
            " [4 5 6]\n",
            " [7 8 9]]\n",
            "\n",
            "Trace: 15\n"
          ]
        }
      ]
    },
    {
      "cell_type": "code",
      "source": [
        "#Transpose of a Matrix\n",
        "\n",
        "matrix = np.array([[1, 2, 3],\n",
        "                   [4, 5, 6],\n",
        "                   [7, 8, 9]])\n",
        "\n",
        "transpose_matrix = matrix.T  # Using .T attribute\n",
        "# Alternatively: transpose_matrix = np.transpose(matrix)\n",
        "\n",
        "print(\"Original Matrix:\")\n",
        "print(matrix)\n",
        "\n",
        "print(\"\\nTranspose Matrix:\")\n",
        "print(transpose_matrix)"
      ],
      "metadata": {
        "id": "bTm3HEk5_rnr",
        "colab": {
          "base_uri": "https://localhost:8080/"
        },
        "outputId": "d2e44da2-e439-4d32-b336-6a3f7f6da29c"
      },
      "execution_count": 60,
      "outputs": [
        {
          "output_type": "stream",
          "name": "stdout",
          "text": [
            "Original Matrix:\n",
            "[[1 2 3]\n",
            " [4 5 6]\n",
            " [7 8 9]]\n",
            "\n",
            "Transpose Matrix:\n",
            "[[1 4 7]\n",
            " [2 5 8]\n",
            " [3 6 9]]\n"
          ]
        }
      ]
    },
    {
      "cell_type": "code",
      "source": [
        "#Rank of a Matrix\n",
        "\n",
        "\n",
        "\n",
        "matrix = np.array([[1, 2, 3],\n",
        "                   [4, 5, 6],\n",
        "                   [7, 8, 9]])\n",
        "\n",
        "rank = np.linalg.matrix_rank(matrix)\n",
        "\n",
        "print(\"Matrix:\")\n",
        "print(matrix)\n",
        "\n",
        "print(\"\\nRank:\", rank)\n"
      ],
      "metadata": {
        "colab": {
          "base_uri": "https://localhost:8080/"
        },
        "id": "o5EYixwfqTrn",
        "outputId": "44271385-b2b5-4dd4-b6ce-c8a309702bd7"
      },
      "execution_count": 61,
      "outputs": [
        {
          "output_type": "stream",
          "name": "stdout",
          "text": [
            "Matrix:\n",
            "[[1 2 3]\n",
            " [4 5 6]\n",
            " [7 8 9]]\n",
            "\n",
            "Rank: 2\n"
          ]
        }
      ]
    },
    {
      "cell_type": "code",
      "source": [
        "#Inverse of a Matrix\n",
        "\n",
        "\n",
        "matrix = np.array([[1, 2],\n",
        "                   [3, 4]])\n",
        "\n",
        "inverse_matrix = np.linalg.inv(matrix)\n",
        "\n",
        "print(\"Matrix:\")\n",
        "print(matrix)\n",
        "\n",
        "print(\"\\nInverse Matrix:\")\n",
        "print(inverse_matrix)"
      ],
      "metadata": {
        "colab": {
          "base_uri": "https://localhost:8080/"
        },
        "id": "h32KhgQ5qekc",
        "outputId": "b205ae7c-41ec-47e6-96a8-2295dea3e481"
      },
      "execution_count": 62,
      "outputs": [
        {
          "output_type": "stream",
          "name": "stdout",
          "text": [
            "Matrix:\n",
            "[[1 2]\n",
            " [3 4]]\n",
            "\n",
            "Inverse Matrix:\n",
            "[[-2.   1. ]\n",
            " [ 1.5 -0.5]]\n"
          ]
        }
      ]
    },
    {
      "cell_type": "code",
      "source": [
        "#Moore Penrose Inverse of a Matrix\n",
        "\n",
        "\n",
        "matrix = np.array([[1, 2],\n",
        "                   [3, 4],\n",
        "                   [5, 6]])\n",
        "\n",
        "pseudoinverse_matrix = np.linalg.pinv(matrix)\n",
        "\n",
        "print(\"Matrix:\")\n",
        "print(matrix)\n",
        "\n",
        "print(\"\\nMoore-Penrose Pseudoinverse:\")\n",
        "print(pseudoinverse_matrix)"
      ],
      "metadata": {
        "colab": {
          "base_uri": "https://localhost:8080/"
        },
        "id": "jS8sM20aAy3w",
        "outputId": "1f105305-b495-4623-984e-cf2769089122"
      },
      "execution_count": 63,
      "outputs": [
        {
          "output_type": "stream",
          "name": "stdout",
          "text": [
            "Matrix:\n",
            "[[1 2]\n",
            " [3 4]\n",
            " [5 6]]\n",
            "\n",
            "Moore-Penrose Pseudoinverse:\n",
            "[[-1.33333333 -0.33333333  0.66666667]\n",
            " [ 1.08333333  0.33333333 -0.41666667]]\n"
          ]
        }
      ]
    },
    {
      "cell_type": "code",
      "source": [
        "# Matrix Vstack\n",
        "\n",
        "\n",
        "matrix1 = np.array([[1, 2, 3],\n",
        "                   [4, 5, 6]])\n",
        "\n",
        "matrix2 = np.array([[7, 8, 9],\n",
        "                   [10, 11, 12]])\n",
        "\n",
        "# Vertical stacking\n",
        "vertical_stack = np.vstack((matrix1, matrix2))\n",
        "\n",
        "print(\"Matrix 1:\")\n",
        "print(matrix1)\n",
        "\n",
        "print(\"\\nMatrix 2:\")\n",
        "print(matrix2)\n",
        "\n",
        "print(\"\\nVertical Stack:\")\n",
        "print(vertical_stack)"
      ],
      "metadata": {
        "colab": {
          "base_uri": "https://localhost:8080/"
        },
        "id": "mJsMujR9qnjy",
        "outputId": "33193ab4-e4cd-4c7d-cf06-a12d8ed70b36"
      },
      "execution_count": 64,
      "outputs": [
        {
          "output_type": "stream",
          "name": "stdout",
          "text": [
            "Matrix 1:\n",
            "[[1 2 3]\n",
            " [4 5 6]]\n",
            "\n",
            "Matrix 2:\n",
            "[[ 7  8  9]\n",
            " [10 11 12]]\n",
            "\n",
            "Vertical Stack:\n",
            "[[ 1  2  3]\n",
            " [ 4  5  6]\n",
            " [ 7  8  9]\n",
            " [10 11 12]]\n"
          ]
        }
      ]
    },
    {
      "cell_type": "code",
      "source": [
        "# Matrix Hstack\n",
        "\n",
        "\n",
        "matrix1 = np.array([[1, 2, 3],\n",
        "                   [4, 5, 6]])\n",
        "\n",
        "matrix2 = np.array([[7, 8, 9],\n",
        "                   [10, 11, 12]])\n",
        "\n",
        "# Vertical stacking\n",
        "horizontal_stack = np.hstack((matrix1, matrix2))\n",
        "\n",
        "print(\"Matrix 1:\")\n",
        "print(matrix1)\n",
        "\n",
        "print(\"\\nMatrix 2:\")\n",
        "print(matrix2)\n",
        "\n",
        "print(\"\\nHorizontal Stack:\")\n",
        "print(horizontal_stack)"
      ],
      "metadata": {
        "colab": {
          "base_uri": "https://localhost:8080/"
        },
        "id": "aZ4xaXwf6ke3",
        "outputId": "a3794d57-6a5a-42cd-fbf0-67fcef1bb888"
      },
      "execution_count": 65,
      "outputs": [
        {
          "output_type": "stream",
          "name": "stdout",
          "text": [
            "Matrix 1:\n",
            "[[1 2 3]\n",
            " [4 5 6]]\n",
            "\n",
            "Matrix 2:\n",
            "[[ 7  8  9]\n",
            " [10 11 12]]\n",
            "\n",
            "Horizontal Stack:\n",
            "[[ 1  2  3  7  8  9]\n",
            " [ 4  5  6 10 11 12]]\n"
          ]
        }
      ]
    },
    {
      "cell_type": "code",
      "source": [
        "# Matrix Dstack\n",
        "\n",
        "\n",
        "matrix1 = np.array([[1, 2, 3],\n",
        "                   [4, 5, 6]])\n",
        "\n",
        "matrix2 = np.array([[7, 8, 9],\n",
        "                   [10, 11, 12]])\n",
        "\n",
        "# Depth-wise stacking\n",
        "depth_stack = np.dstack((matrix1, matrix2))\n",
        "\n",
        "print(\"Matrix 1:\")\n",
        "print(matrix1)\n",
        "\n",
        "print(\"\\nMatrix 2:\")\n",
        "print(matrix2)\n",
        "\n",
        "print(\"\\nDepth-wise Stack:\")\n",
        "print(depth_stack)"
      ],
      "metadata": {
        "colab": {
          "base_uri": "https://localhost:8080/"
        },
        "id": "ncRK9mf97NZ_",
        "outputId": "598c9855-7b8e-46d0-9336-ce6e06dae3a5"
      },
      "execution_count": 66,
      "outputs": [
        {
          "output_type": "stream",
          "name": "stdout",
          "text": [
            "Matrix 1:\n",
            "[[1 2 3]\n",
            " [4 5 6]]\n",
            "\n",
            "Matrix 2:\n",
            "[[ 7  8  9]\n",
            " [10 11 12]]\n",
            "\n",
            "Depth-wise Stack:\n",
            "[[[ 1  7]\n",
            "  [ 2  8]\n",
            "  [ 3  9]]\n",
            "\n",
            " [[ 4 10]\n",
            "  [ 5 11]\n",
            "  [ 6 12]]]\n"
          ]
        }
      ]
    },
    {
      "cell_type": "code",
      "source": [
        "# Hermitian Transpose\n",
        "\n",
        "\n",
        "\n",
        "# Define a complex matrix\n",
        "matrix = np.array([[1 + 2j, 3 - 4j],\n",
        "                   [5 + 6j, 7 - 8j]])\n",
        "\n",
        "conjugate_transpose_matrix = matrix.conj().T\n",
        "\n",
        "print(\"Matrix:\")\n",
        "print(matrix)\n",
        "\n",
        "print(\"\\nConjugate Transpose Matrix:\")\n",
        "print(conjugate_transpose_matrix)"
      ],
      "metadata": {
        "colab": {
          "base_uri": "https://localhost:8080/"
        },
        "id": "EB4keXLF6ixc",
        "outputId": "e42288db-e842-451c-8085-8313c04587dc"
      },
      "execution_count": 67,
      "outputs": [
        {
          "output_type": "stream",
          "name": "stdout",
          "text": [
            "Matrix:\n",
            "[[1.+2.j 3.-4.j]\n",
            " [5.+6.j 7.-8.j]]\n",
            "\n",
            "Conjugate Transpose Matrix:\n",
            "[[1.-2.j 5.-6.j]\n",
            " [3.+4.j 7.+8.j]]\n"
          ]
        }
      ]
    },
    {
      "cell_type": "code",
      "source": [],
      "metadata": {
        "id": "p7OvqW3_9cBK"
      },
      "execution_count": 67,
      "outputs": []
    }
  ]
}