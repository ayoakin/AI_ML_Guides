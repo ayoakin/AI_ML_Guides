{
  "nbformat": 4,
  "nbformat_minor": 0,
  "metadata": {
    "colab": {
      "provenance": [],
      "history_visible": true
    },
    "kernelspec": {
      "name": "python3",
      "display_name": "Python 3"
    },
    "language_info": {
      "name": "python"
    }
  },
  "cells": [
    {
      "cell_type": "code",
      "execution_count": 21,
      "metadata": {
        "colab": {
          "base_uri": "https://localhost:8080/"
        },
        "id": "QDiO9bDXHSnL",
        "outputId": "8ce0258d-6e15-406f-a6bd-a78c9d2d362a"
      },
      "outputs": [
        {
          "output_type": "stream",
          "name": "stdout",
          "text": [
            "[Epoch 0] Avg Loss: 0.7209 | Checkpoint saved to checkpoint_epoch0.pth\n",
            "[Epoch 1] Avg Loss: 0.7538 | Checkpoint saved to checkpoint_epoch1.pth\n",
            "[Epoch 2] Avg Loss: 0.7330 | Checkpoint saved to checkpoint_epoch2.pth\n",
            "[Epoch 3] Avg Loss: 0.7613 | Checkpoint saved to checkpoint_epoch3.pth\n",
            "[Epoch 4] Avg Loss: 0.7328 | Checkpoint saved to checkpoint_epoch4.pth\n"
          ]
        }
      ],
      "source": [
        "import torch\n",
        "import torch.nn as nn\n",
        "import torch.optim as optim\n",
        "from torch.utils.data import DataLoader, TensorDataset\n",
        "\n",
        "# Setting random seed for reproducibility\n",
        "torch.manual_seed(42)\n",
        "\n",
        "# 1. Defining a simple dataset\n",
        "X = torch.randn(100, 10)  # 100 samples, 10 features\n",
        "y = torch.randint(0, 2, (100,))  # Binary classification\n",
        "\n",
        "dataset = TensorDataset(X, y)\n",
        "dataloader = DataLoader(dataset, batch_size=16, shuffle=True)\n",
        "\n",
        "# 2. Simple model\n",
        "class SimpleNet(nn.Module):\n",
        "    def __init__(self):\n",
        "        super(SimpleNet, self).__init__()\n",
        "        self.fc = nn.Linear(10, 2)  # 10 input features, 2 output classes\n",
        "\n",
        "    def forward(self, x):\n",
        "        return self.fc(x)\n",
        "\n",
        "model = SimpleNet()\n",
        "\n",
        "# 3. Loss function and optimizer for model\n",
        "criterion = nn.CrossEntropyLoss()\n",
        "optimizer = optim.Adam(model.parameters(), lr=0.001)\n",
        "\n",
        "# 4. Training loop with checkpointing\n",
        "num_epochs = 5\n",
        "\n",
        "for epoch in range(num_epochs):\n",
        "    model.train()\n",
        "    total_loss = 0.0\n",
        "\n",
        "    for inputs, targets in dataloader:\n",
        "        outputs = model(inputs)\n",
        "        loss = criterion(outputs, targets)\n",
        "\n",
        "        optimizer.zero_grad()\n",
        "        loss.backward()\n",
        "        optimizer.step()\n",
        "\n",
        "        total_loss += loss.item()\n",
        "\n",
        "    avg_loss = total_loss / len(dataloader)\n",
        "\n",
        "    # Save checkpoint after each epoch (Checkpoint can also be saved after a number of training step))\n",
        "    checkpoint_path = f'checkpoint_epoch{epoch}.pth'\n",
        "    torch.save({\n",
        "        'epoch': epoch,\n",
        "        'model_state_dict': model.state_dict(),\n",
        "        'optimizer_state_dict': optimizer.state_dict(),\n",
        "        'loss': avg_loss,\n",
        "    }, checkpoint_path)\n",
        "\n",
        "    print(f\"[Epoch {epoch}] Avg Loss: {avg_loss:.4f} | Checkpoint saved to {checkpoint_path}\")"
      ]
    },
    {
      "cell_type": "code",
      "source": [
        "#Loading a checkpoint\n",
        "checkpoint = torch.load('checkpoint_epoch3.pth')\n",
        "model.load_state_dict(checkpoint['model_state_dict'])\n",
        "optimizer.load_state_dict(checkpoint['optimizer_state_dict'])\n",
        "start_epoch = checkpoint['epoch'] + 1\n",
        "loss = checkpoint['loss']\n",
        "\n",
        "print(f\"Resumed from epoch {start_epoch}, previous loss: {loss}\")"
      ],
      "metadata": {
        "colab": {
          "base_uri": "https://localhost:8080/"
        },
        "id": "GMWUtrCGI0oR",
        "outputId": "f0ff7029-34f5-4bab-c471-ab40cf6b2c1a"
      },
      "execution_count": 22,
      "outputs": [
        {
          "output_type": "stream",
          "name": "stdout",
          "text": [
            "Resumed from epoch 4, previous loss: 0.7612517731530326\n"
          ]
        }
      ]
    },
    {
      "cell_type": "code",
      "source": [
        "import os\n",
        "\n",
        "# Delete checkpoint\n",
        "\n",
        "if os.path.exists(checkpoint_path):\n",
        "    os.remove(checkpoint_path)\n",
        "    print(f\"Checkpoint {checkpoint_path} deleted.\")\n",
        "else:\n",
        "    print(\"Checkpoint file not found.\")"
      ],
      "metadata": {
        "colab": {
          "base_uri": "https://localhost:8080/"
        },
        "id": "yAbWUQVbH-ti",
        "outputId": "85dfda99-4816-4a1c-df76-6b97553ba696"
      },
      "execution_count": 23,
      "outputs": [
        {
          "output_type": "stream",
          "name": "stdout",
          "text": [
            "Checkpoint checkpoint_epoch4.pth deleted.\n"
          ]
        }
      ]
    }
  ]
}